{
 "cells": [
  {
   "cell_type": "code",
   "execution_count": 60,
   "metadata": {},
   "outputs": [],
   "source": [
    "import numpy as np\n",
    "import json, sys, os, glob\n",
    "from shutil import copyfile\n",
    "from PIL import Image\n"
   ]
  },
  {
   "cell_type": "code",
   "execution_count": 62,
   "metadata": {},
   "outputs": [],
   "source": [
    "def npz2img(path_to_unprocessed = '../unprocessed/',path_to_data = '../static/data/',config_path = '../config.json'):\n",
    "    config = json.load(open(config_path,'r'))[0]\n",
    "    imgs = glob.glob(path_to_unprocessed+'imgs/*.png')\n",
    "    for img in imgs:\n",
    "        img_name = img.split('/')[-1]\n",
    "        if os.path.exists(path_to_data+'imgs/'+img_name):\n",
    "            pass\n",
    "        else:\n",
    "            copyfile(path_to_unprocessed+'imgs/'+img_name, path_to_data+'imgs/'+img_name)\n",
    "\n",
    "        if os.path.exists(path_to_data+'segz/'+img_name):\n",
    "            pass\n",
    "        else:\n",
    "            np_img = np.load(path_to_unprocessed+'segz/'+img_name+'.npz')['arr_0']\n",
    "            np_img = np.array([np_img,np_img,np_img])\n",
    "            np_img = np.moveaxis(np_img, 0, -1)\n",
    "            h,w,_ = np_img.shape\n",
    "\n",
    "            for label in range(8):\n",
    "                orig_color = (label,label,label)\n",
    "                replacement_color = tuple(config['classes'][label]['rgb'])\n",
    "                np_img[(np_img == orig_color).all(axis = -1)] = replacement_color\n",
    "            np_img = Image.fromarray(np.uint8(np_img))\n",
    "            np_img.save(path_to_data+'segz/'+img_name,\"PNG\")\n",
    "    "
   ]
  },
  {
   "cell_type": "code",
   "execution_count": 72,
   "metadata": {},
   "outputs": [],
   "source": [
    "npz2img()"
   ]
  },
  {
   "cell_type": "code",
   "execution_count": 68,
   "metadata": {},
   "outputs": [],
   "source": [
    "def img2npz(path_to_npz = '../npz/',path_to_data = '../static/data/',config_path = '../config.json'):\n",
    "    config = json.load(open(config_path,'r'))[0]\n",
    "    imgs = glob.glob(path_to_data+'segz/*.png')\n",
    "    for img in imgs:\n",
    "        img_name = img.split('/')[-1]\n",
    "        if os.path.exists(path_to_npz+'segz/'+img_name+'.npz'):\n",
    "            pass\n",
    "        else:\n",
    "            np_img = np.array(Image.open(path_to_data+'segz/'+img_name))\n",
    "            h,w,_ = np_img.shape\n",
    "            \n",
    "            for label in range(8):\n",
    "                orig_color = tuple(config['classes'][label]['rgb'])\n",
    "                replacement_color = (label,label,label)\n",
    "                np_img[(np_img == orig_color).all(axis = -1)] = replacement_color\n",
    "                \n",
    "            np_img = np_img[:,:,0]\n",
    "            np.savez(path_to_npz+'segz/'+img_name+'.npz', arr_0=np_img)\n",
    "    "
   ]
  },
  {
   "cell_type": "code",
   "execution_count": 69,
   "metadata": {},
   "outputs": [],
   "source": [
    "img2npz()"
   ]
  },
  {
   "cell_type": "code",
   "execution_count": null,
   "metadata": {},
   "outputs": [],
   "source": []
  },
  {
   "cell_type": "code",
   "execution_count": null,
   "metadata": {},
   "outputs": [],
   "source": []
  }
 ],
 "metadata": {
  "kernelspec": {
   "display_name": "Python 3",
   "language": "python",
   "name": "python3"
  },
  "language_info": {
   "codemirror_mode": {
    "name": "ipython",
    "version": 3
   },
   "file_extension": ".py",
   "mimetype": "text/x-python",
   "name": "python",
   "nbconvert_exporter": "python",
   "pygments_lexer": "ipython3",
   "version": "3.6.9"
  }
 },
 "nbformat": 4,
 "nbformat_minor": 2
}
